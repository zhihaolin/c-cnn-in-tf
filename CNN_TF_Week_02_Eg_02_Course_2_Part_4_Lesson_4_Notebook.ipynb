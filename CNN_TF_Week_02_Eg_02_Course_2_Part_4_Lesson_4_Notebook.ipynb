{
  "nbformat": 4,
  "nbformat_minor": 0,
  "metadata": {
    "accelerator": "GPU",
    "colab": {
      "name": "CNN_TF_Week_02_Eg_02_Course 2 - Part 4 - Lesson 4 - Notebook.ipynb",
      "provenance": [],
      "collapsed_sections": [],
      "toc_visible": true
    },
    "kernelspec": {
      "display_name": "Python 3",
      "name": "python3"
    }
  },
  "cells": [
    {
      "cell_type": "markdown",
      "metadata": {
        "colab_type": "text",
        "id": "rX8mhOLljYeM"
      },
      "source": [
        "##### Copyright 2019 The TensorFlow Authors."
      ]
    },
    {
      "cell_type": "code",
      "metadata": {
        "cellView": "form",
        "colab_type": "code",
        "id": "BZSlp3DAjdYf",
        "colab": {}
      },
      "source": [
        "#@title Licensed under the Apache License, Version 2.0 (the \"License\");\n",
        "# you may not use this file except in compliance with the License.\n",
        "# You may obtain a copy of the License at\n",
        "#\n",
        "# https://www.apache.org/licenses/LICENSE-2.0\n",
        "#\n",
        "# Unless required by applicable law or agreed to in writing, software\n",
        "# distributed under the License is distributed on an \"AS IS\" BASIS,\n",
        "# WITHOUT WARRANTIES OR CONDITIONS OF ANY KIND, either express or implied.\n",
        "# See the License for the specific language governing permissions and\n",
        "# limitations under the License."
      ],
      "execution_count": 0,
      "outputs": []
    },
    {
      "cell_type": "code",
      "metadata": {
        "colab_type": "code",
        "id": "RXZT2UsyIVe_",
        "colab": {
          "base_uri": "https://localhost:8080/",
          "height": 391
        },
        "outputId": "a68d8294-2ddf-4058-bb68-ee9dfcc46517"
      },
      "source": [
        "!wget --no-check-certificate \\\n",
        "    https://storage.googleapis.com/laurencemoroney-blog.appspot.com/horse-or-human.zip \\\n",
        "    -O /tmp/horse-or-human.zip\n",
        "\n",
        "!wget --no-check-certificate \\\n",
        "    https://storage.googleapis.com/laurencemoroney-blog.appspot.com/validation-horse-or-human.zip \\\n",
        "    -O /tmp/validation-horse-or-human.zip\n",
        "  \n",
        "import os\n",
        "import zipfile\n",
        "\n",
        "local_zip = '/tmp/horse-or-human.zip'\n",
        "zip_ref = zipfile.ZipFile(local_zip, 'r')\n",
        "zip_ref.extractall('/tmp/horse-or-human')\n",
        "local_zip = '/tmp/validation-horse-or-human.zip'\n",
        "zip_ref = zipfile.ZipFile(local_zip, 'r')\n",
        "zip_ref.extractall('/tmp/validation-horse-or-human')\n",
        "zip_ref.close()\n",
        "# Directory with our training horse pictures\n",
        "train_horse_dir = os.path.join('/tmp/horse-or-human/horses')\n",
        "\n",
        "# Directory with our training human pictures\n",
        "train_human_dir = os.path.join('/tmp/horse-or-human/humans')\n",
        "\n",
        "# Directory with our training horse pictures\n",
        "validation_horse_dir = os.path.join('/tmp/validation-horse-or-human/horses')\n",
        "\n",
        "# Directory with our training human pictures\n",
        "validation_human_dir = os.path.join('/tmp/validation-horse-or-human/humans')"
      ],
      "execution_count": 2,
      "outputs": [
        {
          "output_type": "stream",
          "text": [
            "--2020-05-27 12:51:40--  https://storage.googleapis.com/laurencemoroney-blog.appspot.com/horse-or-human.zip\n",
            "Resolving storage.googleapis.com (storage.googleapis.com)... 108.177.15.128, 2a00:1450:400c:c0a::80\n",
            "Connecting to storage.googleapis.com (storage.googleapis.com)|108.177.15.128|:443... connected.\n",
            "HTTP request sent, awaiting response... 200 OK\n",
            "Length: 149574867 (143M) [application/zip]\n",
            "Saving to: ‘/tmp/horse-or-human.zip’\n",
            "\n",
            "/tmp/horse-or-human 100%[===================>] 142.65M  72.8MB/s    in 2.0s    \n",
            "\n",
            "2020-05-27 12:51:43 (72.8 MB/s) - ‘/tmp/horse-or-human.zip’ saved [149574867/149574867]\n",
            "\n",
            "--2020-05-27 12:51:44--  https://storage.googleapis.com/laurencemoroney-blog.appspot.com/validation-horse-or-human.zip\n",
            "Resolving storage.googleapis.com (storage.googleapis.com)... 64.233.166.128, 2a00:1450:400c:c02::80\n",
            "Connecting to storage.googleapis.com (storage.googleapis.com)|64.233.166.128|:443... connected.\n",
            "HTTP request sent, awaiting response... 200 OK\n",
            "Length: 11480187 (11M) [application/zip]\n",
            "Saving to: ‘/tmp/validation-horse-or-human.zip’\n",
            "\n",
            "/tmp/validation-hor 100%[===================>]  10.95M  5.47MB/s    in 2.0s    \n",
            "\n",
            "2020-05-27 12:51:47 (5.47 MB/s) - ‘/tmp/validation-horse-or-human.zip’ saved [11480187/11480187]\n",
            "\n"
          ],
          "name": "stdout"
        }
      ]
    },
    {
      "cell_type": "markdown",
      "metadata": {
        "colab_type": "text",
        "id": "5oqBkNBJmtUv"
      },
      "source": [
        "## Building a Small Model from Scratch\n",
        "\n",
        "But before we continue, let's start defining the model:\n",
        "\n",
        "Step 1 will be to import tensorflow."
      ]
    },
    {
      "cell_type": "code",
      "metadata": {
        "colab_type": "code",
        "id": "qvfZg3LQbD-5",
        "colab": {}
      },
      "source": [
        "import tensorflow as tf"
      ],
      "execution_count": 0,
      "outputs": []
    },
    {
      "cell_type": "markdown",
      "metadata": {
        "colab_type": "text",
        "id": "BnhYCP4tdqjC"
      },
      "source": [
        "We then add convolutional layers as in the previous example, and flatten the final result to feed into the densely connected layers."
      ]
    },
    {
      "cell_type": "markdown",
      "metadata": {
        "colab_type": "text",
        "id": "gokG5HKpdtzm"
      },
      "source": [
        "Finally we add the densely connected layers. \n",
        "\n",
        "Note that because we are facing a two-class classification problem, i.e. a *binary classification problem*, we will end our network with a [*sigmoid* activation](https://wikipedia.org/wiki/Sigmoid_function), so that the output of our network will be a single scalar between 0 and 1, encoding the probability that the current image is class 1 (as opposed to class 0)."
      ]
    },
    {
      "cell_type": "code",
      "metadata": {
        "colab_type": "code",
        "id": "PixZ2s5QbYQ3",
        "colab": {}
      },
      "source": [
        "model = tf.keras.models.Sequential([\n",
        "    # Note the input shape is the desired size of the image 300x300 with 3 bytes color\n",
        "    # This is the first convolution\n",
        "    tf.keras.layers.Conv2D(16, (3,3), activation='relu', input_shape=(300, 300, 3)),\n",
        "    tf.keras.layers.MaxPooling2D(2, 2),\n",
        "    # The second convolution\n",
        "    tf.keras.layers.Conv2D(32, (3,3), activation='relu'),\n",
        "    tf.keras.layers.MaxPooling2D(2,2),\n",
        "    # The third convolution\n",
        "    tf.keras.layers.Conv2D(64, (3,3), activation='relu'),\n",
        "    tf.keras.layers.MaxPooling2D(2,2),\n",
        "    # The fourth convolution\n",
        "    tf.keras.layers.Conv2D(64, (3,3), activation='relu'),\n",
        "    tf.keras.layers.MaxPooling2D(2,2),\n",
        "    # The fifth convolution\n",
        "    tf.keras.layers.Conv2D(64, (3,3), activation='relu'),\n",
        "    tf.keras.layers.MaxPooling2D(2,2),\n",
        "    # Flatten the results to feed into a DNN\n",
        "    tf.keras.layers.Flatten(),\n",
        "    # 512 neuron hidden layer\n",
        "    tf.keras.layers.Dense(512, activation='relu'),\n",
        "    # Only 1 output neuron. It will contain a value from 0-1 where 0 for 1 class ('horses') and 1 for the other ('humans')\n",
        "    tf.keras.layers.Dense(1, activation='sigmoid')\n",
        "])"
      ],
      "execution_count": 0,
      "outputs": []
    },
    {
      "cell_type": "code",
      "metadata": {
        "colab_type": "code",
        "id": "8DHWhFP_uhq3",
        "colab": {}
      },
      "source": [
        "from tensorflow.keras.optimizers import RMSprop\n",
        "\n",
        "model.compile(loss='binary_crossentropy',\n",
        "              optimizer=RMSprop(lr=1e-4),\n",
        "              metrics=['accuracy'])"
      ],
      "execution_count": 0,
      "outputs": []
    },
    {
      "cell_type": "code",
      "metadata": {
        "colab_type": "code",
        "id": "ClebU9NJg99G",
        "colab": {
          "base_uri": "https://localhost:8080/",
          "height": 51
        },
        "outputId": "5442ce13-9f97-4973-b7e1-666afe519d13"
      },
      "source": [
        "from tensorflow.keras.preprocessing.image import ImageDataGenerator\n",
        "\n",
        "# All images will be rescaled by 1./255\n",
        "train_datagen = ImageDataGenerator(\n",
        "      rescale=1./255,\n",
        "      rotation_range=40,\n",
        "      width_shift_range=0.2,\n",
        "      height_shift_range=0.2,\n",
        "      shear_range=0.2,\n",
        "      zoom_range=0.2,\n",
        "      horizontal_flip=True,\n",
        "      fill_mode='nearest')\n",
        "\n",
        "validation_datagen = ImageDataGenerator(rescale=1/255)\n",
        "\n",
        "# Flow training images in batches of 128 using train_datagen generator\n",
        "train_generator = train_datagen.flow_from_directory(\n",
        "        '/tmp/horse-or-human/',  # This is the source directory for training images\n",
        "        target_size=(300, 300),  # All images will be resized to 150x150\n",
        "        batch_size=128,\n",
        "        # Since we use binary_crossentropy loss, we need binary labels\n",
        "        class_mode='binary')\n",
        "\n",
        "# Flow training images in batches of 128 using train_datagen generator\n",
        "validation_generator = validation_datagen.flow_from_directory(\n",
        "        '/tmp/validation-horse-or-human/',  # This is the source directory for training images\n",
        "        target_size=(300, 300),  # All images will be resized to 150x150\n",
        "        batch_size=32,\n",
        "        # Since we use binary_crossentropy loss, we need binary labels\n",
        "        class_mode='binary')"
      ],
      "execution_count": 6,
      "outputs": [
        {
          "output_type": "stream",
          "text": [
            "Found 1027 images belonging to 2 classes.\n",
            "Found 256 images belonging to 2 classes.\n"
          ],
          "name": "stdout"
        }
      ]
    },
    {
      "cell_type": "code",
      "metadata": {
        "colab_type": "code",
        "id": "Fb1_lgobv81m",
        "colab": {
          "base_uri": "https://localhost:8080/",
          "height": 1000
        },
        "outputId": "b641d93e-9633-446c-bc17-cabb0d78a3df"
      },
      "source": [
        "history = model.fit(\n",
        "      train_generator,\n",
        "      steps_per_epoch=8,  \n",
        "      epochs=100,\n",
        "      verbose=1,\n",
        "      validation_data = validation_generator,\n",
        "      validation_steps=8)"
      ],
      "execution_count": 7,
      "outputs": [
        {
          "output_type": "stream",
          "text": [
            "Epoch 1/100\n",
            "8/8 [==============================] - 21s 3s/step - loss: 0.6924 - accuracy: 0.5228 - val_loss: 0.6682 - val_accuracy: 0.5938\n",
            "Epoch 2/100\n",
            "8/8 [==============================] - 24s 3s/step - loss: 0.6804 - accuracy: 0.5806 - val_loss: 0.6675 - val_accuracy: 0.5000\n",
            "Epoch 3/100\n",
            "8/8 [==============================] - 24s 3s/step - loss: 0.6576 - accuracy: 0.6808 - val_loss: 0.6321 - val_accuracy: 0.5820\n",
            "Epoch 4/100\n",
            "8/8 [==============================] - 24s 3s/step - loss: 0.6339 - accuracy: 0.6897 - val_loss: 0.5815 - val_accuracy: 0.8984\n",
            "Epoch 5/100\n",
            "8/8 [==============================] - 24s 3s/step - loss: 0.6226 - accuracy: 0.6930 - val_loss: 0.6679 - val_accuracy: 0.5039\n",
            "Epoch 6/100\n",
            "8/8 [==============================] - 24s 3s/step - loss: 0.5851 - accuracy: 0.6986 - val_loss: 0.7206 - val_accuracy: 0.5039\n",
            "Epoch 7/100\n",
            "8/8 [==============================] - 24s 3s/step - loss: 0.5570 - accuracy: 0.7219 - val_loss: 0.6764 - val_accuracy: 0.5469\n",
            "Epoch 8/100\n",
            "8/8 [==============================] - 24s 3s/step - loss: 0.5784 - accuracy: 0.7208 - val_loss: 0.5762 - val_accuracy: 0.6289\n",
            "Epoch 9/100\n",
            "8/8 [==============================] - 24s 3s/step - loss: 0.5280 - accuracy: 0.7353 - val_loss: 0.6936 - val_accuracy: 0.5742\n",
            "Epoch 10/100\n",
            "8/8 [==============================] - 24s 3s/step - loss: 0.5017 - accuracy: 0.7753 - val_loss: 0.8104 - val_accuracy: 0.5469\n",
            "Epoch 11/100\n",
            "8/8 [==============================] - 24s 3s/step - loss: 0.4934 - accuracy: 0.7697 - val_loss: 0.3304 - val_accuracy: 0.9375\n",
            "Epoch 12/100\n",
            "8/8 [==============================] - 27s 3s/step - loss: 0.5097 - accuracy: 0.7480 - val_loss: 0.6795 - val_accuracy: 0.6289\n",
            "Epoch 13/100\n",
            "8/8 [==============================] - 25s 3s/step - loss: 0.4509 - accuracy: 0.7942 - val_loss: 0.6264 - val_accuracy: 0.6797\n",
            "Epoch 14/100\n",
            "8/8 [==============================] - 28s 4s/step - loss: 0.4573 - accuracy: 0.7942 - val_loss: 0.9039 - val_accuracy: 0.5938\n",
            "Epoch 15/100\n",
            "8/8 [==============================] - 24s 3s/step - loss: 0.4060 - accuracy: 0.8331 - val_loss: 1.0517 - val_accuracy: 0.6055\n",
            "Epoch 16/100\n",
            "8/8 [==============================] - 24s 3s/step - loss: 0.5470 - accuracy: 0.7531 - val_loss: 1.2493 - val_accuracy: 0.5664\n",
            "Epoch 17/100\n",
            "8/8 [==============================] - 24s 3s/step - loss: 0.4511 - accuracy: 0.8087 - val_loss: 1.3234 - val_accuracy: 0.5547\n",
            "Epoch 18/100\n",
            "8/8 [==============================] - 25s 3s/step - loss: 0.4200 - accuracy: 0.8109 - val_loss: 1.0832 - val_accuracy: 0.6055\n",
            "Epoch 19/100\n",
            "8/8 [==============================] - 26s 3s/step - loss: 0.4112 - accuracy: 0.8109 - val_loss: 1.2686 - val_accuracy: 0.5938\n",
            "Epoch 20/100\n",
            "8/8 [==============================] - 26s 3s/step - loss: 0.4572 - accuracy: 0.7920 - val_loss: 0.9232 - val_accuracy: 0.6484\n",
            "Epoch 21/100\n",
            "8/8 [==============================] - 25s 3s/step - loss: 0.4862 - accuracy: 0.7976 - val_loss: 1.1073 - val_accuracy: 0.5938\n",
            "Epoch 22/100\n",
            "8/8 [==============================] - 25s 3s/step - loss: 0.4009 - accuracy: 0.8131 - val_loss: 1.1307 - val_accuracy: 0.6016\n",
            "Epoch 23/100\n",
            "8/8 [==============================] - 29s 4s/step - loss: 0.3911 - accuracy: 0.8365 - val_loss: 1.4878 - val_accuracy: 0.5664\n",
            "Epoch 24/100\n",
            "8/8 [==============================] - 29s 4s/step - loss: 0.4508 - accuracy: 0.7920 - val_loss: 1.4999 - val_accuracy: 0.5664\n",
            "Epoch 25/100\n",
            "8/8 [==============================] - 26s 3s/step - loss: 0.4792 - accuracy: 0.7920 - val_loss: 1.1748 - val_accuracy: 0.5938\n",
            "Epoch 26/100\n",
            "8/8 [==============================] - 30s 4s/step - loss: 0.3737 - accuracy: 0.8521 - val_loss: 1.4695 - val_accuracy: 0.5859\n",
            "Epoch 27/100\n",
            "8/8 [==============================] - 25s 3s/step - loss: 0.3795 - accuracy: 0.8220 - val_loss: 1.5139 - val_accuracy: 0.5703\n",
            "Epoch 28/100\n",
            "8/8 [==============================] - 26s 3s/step - loss: 0.3918 - accuracy: 0.8254 - val_loss: 1.7177 - val_accuracy: 0.5664\n",
            "Epoch 29/100\n",
            "8/8 [==============================] - 29s 4s/step - loss: 0.4148 - accuracy: 0.8220 - val_loss: 1.5579 - val_accuracy: 0.5742\n",
            "Epoch 30/100\n",
            "8/8 [==============================] - 25s 3s/step - loss: 0.3111 - accuracy: 0.8765 - val_loss: 1.5523 - val_accuracy: 0.5977\n",
            "Epoch 31/100\n",
            "8/8 [==============================] - 25s 3s/step - loss: 0.3243 - accuracy: 0.8621 - val_loss: 1.5876 - val_accuracy: 0.6211\n",
            "Epoch 32/100\n",
            "8/8 [==============================] - 25s 3s/step - loss: 0.4135 - accuracy: 0.8165 - val_loss: 1.3972 - val_accuracy: 0.6172\n",
            "Epoch 33/100\n",
            "8/8 [==============================] - 25s 3s/step - loss: 0.3318 - accuracy: 0.8509 - val_loss: 1.5104 - val_accuracy: 0.6016\n",
            "Epoch 34/100\n",
            "8/8 [==============================] - 29s 4s/step - loss: 0.3940 - accuracy: 0.8198 - val_loss: 1.4791 - val_accuracy: 0.6133\n",
            "Epoch 35/100\n",
            "8/8 [==============================] - 24s 3s/step - loss: 0.2870 - accuracy: 0.8954 - val_loss: 0.7579 - val_accuracy: 0.7500\n",
            "Epoch 36/100\n",
            "8/8 [==============================] - 23s 3s/step - loss: 0.4207 - accuracy: 0.8198 - val_loss: 1.4774 - val_accuracy: 0.6094\n",
            "Epoch 37/100\n",
            "8/8 [==============================] - 25s 3s/step - loss: 0.2964 - accuracy: 0.8854 - val_loss: 1.8095 - val_accuracy: 0.6016\n",
            "Epoch 38/100\n",
            "8/8 [==============================] - 24s 3s/step - loss: 0.3199 - accuracy: 0.8632 - val_loss: 1.3447 - val_accuracy: 0.6328\n",
            "Epoch 39/100\n",
            "8/8 [==============================] - 26s 3s/step - loss: 0.2860 - accuracy: 0.8810 - val_loss: 2.0058 - val_accuracy: 0.5938\n",
            "Epoch 40/100\n",
            "8/8 [==============================] - 22s 3s/step - loss: 0.2852 - accuracy: 0.8765 - val_loss: 2.9873 - val_accuracy: 0.5195\n",
            "Epoch 41/100\n",
            "8/8 [==============================] - 23s 3s/step - loss: 0.3662 - accuracy: 0.8587 - val_loss: 2.3173 - val_accuracy: 0.5430\n",
            "Epoch 42/100\n",
            "8/8 [==============================] - 23s 3s/step - loss: 0.3224 - accuracy: 0.8554 - val_loss: 2.1525 - val_accuracy: 0.5586\n",
            "Epoch 43/100\n",
            "8/8 [==============================] - 23s 3s/step - loss: 0.2448 - accuracy: 0.9099 - val_loss: 2.6934 - val_accuracy: 0.5273\n",
            "Epoch 44/100\n",
            "8/8 [==============================] - 23s 3s/step - loss: 0.2873 - accuracy: 0.8776 - val_loss: 1.2271 - val_accuracy: 0.6797\n",
            "Epoch 45/100\n",
            "8/8 [==============================] - 23s 3s/step - loss: 0.2731 - accuracy: 0.8932 - val_loss: 2.0227 - val_accuracy: 0.6055\n",
            "Epoch 46/100\n",
            "8/8 [==============================] - 23s 3s/step - loss: 0.3180 - accuracy: 0.8665 - val_loss: 0.9963 - val_accuracy: 0.7109\n",
            "Epoch 47/100\n",
            "8/8 [==============================] - 22s 3s/step - loss: 0.2635 - accuracy: 0.8888 - val_loss: 1.4108 - val_accuracy: 0.6719\n",
            "Epoch 48/100\n",
            "8/8 [==============================] - 22s 3s/step - loss: 0.2371 - accuracy: 0.8988 - val_loss: 1.8792 - val_accuracy: 0.6328\n",
            "Epoch 49/100\n",
            "8/8 [==============================] - 22s 3s/step - loss: 0.3479 - accuracy: 0.8465 - val_loss: 2.3239 - val_accuracy: 0.5781\n",
            "Epoch 50/100\n",
            "8/8 [==============================] - 22s 3s/step - loss: 0.2360 - accuracy: 0.9077 - val_loss: 2.1997 - val_accuracy: 0.6133\n",
            "Epoch 51/100\n",
            "8/8 [==============================] - 22s 3s/step - loss: 0.2590 - accuracy: 0.8865 - val_loss: 1.1775 - val_accuracy: 0.6953\n",
            "Epoch 52/100\n",
            "8/8 [==============================] - 26s 3s/step - loss: 0.2370 - accuracy: 0.9021 - val_loss: 2.5060 - val_accuracy: 0.5742\n",
            "Epoch 53/100\n",
            "8/8 [==============================] - 22s 3s/step - loss: 0.2296 - accuracy: 0.9110 - val_loss: 2.5725 - val_accuracy: 0.5703\n",
            "Epoch 54/100\n",
            "8/8 [==============================] - 21s 3s/step - loss: 0.2751 - accuracy: 0.8821 - val_loss: 1.8055 - val_accuracy: 0.6367\n",
            "Epoch 55/100\n",
            "8/8 [==============================] - 22s 3s/step - loss: 0.2209 - accuracy: 0.9088 - val_loss: 2.3881 - val_accuracy: 0.6250\n",
            "Epoch 56/100\n",
            "8/8 [==============================] - 22s 3s/step - loss: 0.2379 - accuracy: 0.9032 - val_loss: 3.9893 - val_accuracy: 0.5117\n",
            "Epoch 57/100\n",
            "8/8 [==============================] - 25s 3s/step - loss: 0.2383 - accuracy: 0.9043 - val_loss: 2.2971 - val_accuracy: 0.6094\n",
            "Epoch 58/100\n",
            "8/8 [==============================] - 22s 3s/step - loss: 0.2266 - accuracy: 0.9010 - val_loss: 3.1123 - val_accuracy: 0.5430\n",
            "Epoch 59/100\n",
            "8/8 [==============================] - 22s 3s/step - loss: 0.2302 - accuracy: 0.9088 - val_loss: 1.5110 - val_accuracy: 0.6758\n",
            "Epoch 60/100\n",
            "8/8 [==============================] - 25s 3s/step - loss: 0.4054 - accuracy: 0.8732 - val_loss: 2.6244 - val_accuracy: 0.5859\n",
            "Epoch 61/100\n",
            "8/8 [==============================] - 22s 3s/step - loss: 0.1894 - accuracy: 0.9244 - val_loss: 2.0623 - val_accuracy: 0.6367\n",
            "Epoch 62/100\n",
            "8/8 [==============================] - 22s 3s/step - loss: 0.1880 - accuracy: 0.9255 - val_loss: 3.5411 - val_accuracy: 0.5430\n",
            "Epoch 63/100\n",
            "8/8 [==============================] - 22s 3s/step - loss: 0.2235 - accuracy: 0.9066 - val_loss: 2.6598 - val_accuracy: 0.5898\n",
            "Epoch 64/100\n",
            "8/8 [==============================] - 22s 3s/step - loss: 0.1917 - accuracy: 0.9143 - val_loss: 1.4652 - val_accuracy: 0.6758\n",
            "Epoch 65/100\n",
            "8/8 [==============================] - 22s 3s/step - loss: 0.2371 - accuracy: 0.8888 - val_loss: 1.3965 - val_accuracy: 0.6797\n",
            "Epoch 66/100\n",
            "8/8 [==============================] - 22s 3s/step - loss: 0.2178 - accuracy: 0.9021 - val_loss: 2.5356 - val_accuracy: 0.5977\n",
            "Epoch 67/100\n",
            "8/8 [==============================] - 22s 3s/step - loss: 0.2075 - accuracy: 0.9143 - val_loss: 3.7901 - val_accuracy: 0.5312\n",
            "Epoch 68/100\n",
            "8/8 [==============================] - 24s 3s/step - loss: 0.1652 - accuracy: 0.9482 - val_loss: 3.0248 - val_accuracy: 0.5898\n",
            "Epoch 69/100\n",
            "8/8 [==============================] - 22s 3s/step - loss: 0.1900 - accuracy: 0.9321 - val_loss: 2.6208 - val_accuracy: 0.6133\n",
            "Epoch 70/100\n",
            "8/8 [==============================] - 22s 3s/step - loss: 0.1780 - accuracy: 0.9377 - val_loss: 2.7883 - val_accuracy: 0.5977\n",
            "Epoch 71/100\n",
            "8/8 [==============================] - 22s 3s/step - loss: 0.2288 - accuracy: 0.9032 - val_loss: 2.8326 - val_accuracy: 0.6016\n",
            "Epoch 72/100\n",
            "8/8 [==============================] - 22s 3s/step - loss: 0.1658 - accuracy: 0.9399 - val_loss: 2.0494 - val_accuracy: 0.6641\n",
            "Epoch 73/100\n",
            "8/8 [==============================] - 22s 3s/step - loss: 0.2233 - accuracy: 0.9132 - val_loss: 1.8067 - val_accuracy: 0.6875\n",
            "Epoch 74/100\n",
            "8/8 [==============================] - 22s 3s/step - loss: 0.2506 - accuracy: 0.8977 - val_loss: 1.5534 - val_accuracy: 0.6953\n",
            "Epoch 75/100\n",
            "8/8 [==============================] - 22s 3s/step - loss: 0.2834 - accuracy: 0.8810 - val_loss: 3.1248 - val_accuracy: 0.5820\n",
            "Epoch 76/100\n",
            "8/8 [==============================] - 22s 3s/step - loss: 0.1880 - accuracy: 0.9221 - val_loss: 2.5872 - val_accuracy: 0.6055\n",
            "Epoch 77/100\n",
            "8/8 [==============================] - 24s 3s/step - loss: 0.1405 - accuracy: 0.9502 - val_loss: 2.3231 - val_accuracy: 0.6406\n",
            "Epoch 78/100\n",
            "8/8 [==============================] - 22s 3s/step - loss: 0.1581 - accuracy: 0.9366 - val_loss: 2.6602 - val_accuracy: 0.6172\n",
            "Epoch 79/100\n",
            "8/8 [==============================] - 24s 3s/step - loss: 0.2246 - accuracy: 0.9092 - val_loss: 2.3089 - val_accuracy: 0.6328\n",
            "Epoch 80/100\n",
            "8/8 [==============================] - 22s 3s/step - loss: 0.1659 - accuracy: 0.9266 - val_loss: 1.2279 - val_accuracy: 0.7266\n",
            "Epoch 81/100\n",
            "8/8 [==============================] - 22s 3s/step - loss: 0.1821 - accuracy: 0.9199 - val_loss: 2.1763 - val_accuracy: 0.6523\n",
            "Epoch 82/100\n",
            "8/8 [==============================] - 24s 3s/step - loss: 0.1444 - accuracy: 0.9443 - val_loss: 2.4333 - val_accuracy: 0.6484\n",
            "Epoch 83/100\n",
            "8/8 [==============================] - 22s 3s/step - loss: 0.2434 - accuracy: 0.9055 - val_loss: 2.5341 - val_accuracy: 0.6289\n",
            "Epoch 84/100\n",
            "8/8 [==============================] - 22s 3s/step - loss: 0.1396 - accuracy: 0.9422 - val_loss: 3.1545 - val_accuracy: 0.5977\n",
            "Epoch 85/100\n",
            "8/8 [==============================] - 22s 3s/step - loss: 0.1771 - accuracy: 0.9255 - val_loss: 3.0037 - val_accuracy: 0.5977\n",
            "Epoch 86/100\n",
            "8/8 [==============================] - 22s 3s/step - loss: 0.1306 - accuracy: 0.9577 - val_loss: 3.3967 - val_accuracy: 0.5898\n",
            "Epoch 87/100\n",
            "8/8 [==============================] - 22s 3s/step - loss: 0.1417 - accuracy: 0.9477 - val_loss: 1.6657 - val_accuracy: 0.7109\n",
            "Epoch 88/100\n",
            "8/8 [==============================] - 22s 3s/step - loss: 0.1942 - accuracy: 0.9199 - val_loss: 3.2336 - val_accuracy: 0.6016\n",
            "Epoch 89/100\n",
            "8/8 [==============================] - 22s 3s/step - loss: 0.1498 - accuracy: 0.9433 - val_loss: 4.3281 - val_accuracy: 0.5352\n",
            "Epoch 90/100\n",
            "8/8 [==============================] - 22s 3s/step - loss: 0.1802 - accuracy: 0.9299 - val_loss: 3.5224 - val_accuracy: 0.6055\n",
            "Epoch 91/100\n",
            "8/8 [==============================] - 22s 3s/step - loss: 0.1261 - accuracy: 0.9544 - val_loss: 2.5220 - val_accuracy: 0.6562\n",
            "Epoch 92/100\n",
            "8/8 [==============================] - 22s 3s/step - loss: 0.2234 - accuracy: 0.9055 - val_loss: 2.6355 - val_accuracy: 0.6445\n",
            "Epoch 93/100\n",
            "8/8 [==============================] - 22s 3s/step - loss: 0.1444 - accuracy: 0.9499 - val_loss: 2.3597 - val_accuracy: 0.6758\n",
            "Epoch 94/100\n",
            "8/8 [==============================] - 22s 3s/step - loss: 0.1547 - accuracy: 0.9377 - val_loss: 4.1218 - val_accuracy: 0.5781\n",
            "Epoch 95/100\n",
            "8/8 [==============================] - 22s 3s/step - loss: 0.1251 - accuracy: 0.9544 - val_loss: 3.4401 - val_accuracy: 0.6055\n",
            "Epoch 96/100\n",
            "8/8 [==============================] - 22s 3s/step - loss: 0.1617 - accuracy: 0.9388 - val_loss: 5.0155 - val_accuracy: 0.5391\n",
            "Epoch 97/100\n",
            "8/8 [==============================] - 22s 3s/step - loss: 0.2014 - accuracy: 0.9099 - val_loss: 2.4471 - val_accuracy: 0.6328\n",
            "Epoch 98/100\n",
            "8/8 [==============================] - 22s 3s/step - loss: 0.1975 - accuracy: 0.9110 - val_loss: 1.7368 - val_accuracy: 0.6953\n",
            "Epoch 99/100\n",
            "8/8 [==============================] - 25s 3s/step - loss: 0.1456 - accuracy: 0.9511 - val_loss: 3.0054 - val_accuracy: 0.6094\n",
            "Epoch 100/100\n",
            "8/8 [==============================] - 25s 3s/step - loss: 0.1153 - accuracy: 0.9622 - val_loss: 3.1246 - val_accuracy: 0.6133\n"
          ],
          "name": "stdout"
        }
      ]
    },
    {
      "cell_type": "code",
      "metadata": {
        "colab_type": "code",
        "id": "7zNPRWOVJdOH",
        "colab": {
          "base_uri": "https://localhost:8080/",
          "height": 545
        },
        "outputId": "8452a9ea-e0f6-4855-c654-8a0c39b1a0e9"
      },
      "source": [
        "import matplotlib.pyplot as plt\n",
        "acc = history.history['accuracy']\n",
        "val_acc = history.history['val_accuracy']\n",
        "loss = history.history['loss']\n",
        "val_loss = history.history['val_loss']\n",
        "\n",
        "epochs = range(len(acc))\n",
        "\n",
        "plt.plot(epochs, acc, 'r', label='Training accuracy')\n",
        "plt.plot(epochs, val_acc, 'b', label='Validation accuracy')\n",
        "plt.title('Training and validation accuracy')\n",
        "\n",
        "plt.figure()\n",
        "\n",
        "plt.plot(epochs, loss, 'r', label='Training Loss')\n",
        "plt.plot(epochs, val_loss, 'b', label='Validation Loss')\n",
        "plt.title('Training and validation loss')\n",
        "plt.legend()\n",
        "\n",
        "plt.show()"
      ],
      "execution_count": 8,
      "outputs": [
        {
          "output_type": "display_data",
          "data": {
            "image/png": "[encoded data removed]",
            "text/plain": [
              "<Figure size 432x288 with 1 Axes>"
            ]
          },
          "metadata": {
            "tags": [],
            "needs_background": "light"
          }
        },
        {
          "output_type": "display_data",
          "data": {
            "image/png": "[encoded data removed]",
            "text/plain": [
              "<Figure size 432x288 with 1 Axes>"
            ]
          },
          "metadata": {
            "tags": [],
            "needs_background": "light"
          }
        }
      ]
    }
  ]
}